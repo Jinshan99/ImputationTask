{
 "cells": [
  {
   "cell_type": "code",
   "execution_count": 1,
   "id": "e096d8b8",
   "metadata": {},
   "outputs": [],
   "source": [
    "import numpy as np\n",
    "\n",
    "data_m = np.load('w1d0m.npy')"
   ]
  },
  {
   "cell_type": "code",
   "execution_count": 2,
   "id": "3861c5db",
   "metadata": {},
   "outputs": [
    {
     "data": {
      "text/plain": [
       "array([[  24.,   64.,  122., ...,   29.,   15.,   18.],\n",
       "       [  56.,   65.,   92., ...,   41.,   37.,   62.],\n",
       "       [ 109.,  151.,  187., ...,  111.,   82.,   86.],\n",
       "       ...,\n",
       "       [1725., 1414., 1639., ..., 1842., 2033., 1803.],\n",
       "       [1571., 1373., 1084., ..., 1924., 2061., 1664.],\n",
       "       [ 891.,  787.,  706., ..., 1142., 1191.,  989.]])"
      ]
     },
     "execution_count": 2,
     "metadata": {},
     "output_type": "execute_result"
    }
   ],
   "source": [
    "data_m"
   ]
  },
  {
   "cell_type": "code",
   "execution_count": null,
   "id": "1b6c95b2",
   "metadata": {},
   "outputs": [],
   "source": [
    "import torch\n",
    "data_m.size()"
   ]
  },
  {
   "cell_type": "code",
   "execution_count": null,
   "id": "a2f81a80",
   "metadata": {},
   "outputs": [],
   "source": [
    "X=data_m(np.where)"
   ]
  },
  {
   "cell_type": "code",
   "execution_count": null,
   "id": "b2e19caa",
   "metadata": {},
   "outputs": [],
   "source": [
    "import tensorflow as tf\n",
    "from keras.models import Sequential\n",
    "from keras.layers import Dense\n",
    "model = Sequential()\n",
    "model.add(Dense(30, input_dim=input_layer_size, activation='relu')\n",
    "model.add(Dense(30, activation='relu'))\n",
    "model.add(Dense(3, activation='relu'))\n",
    "model.add(Dense(3, activation='relu'))\n",
    "# identity activation in the output layer for regression\n",
    "model.add(Dense(1))\n",
    "# in case of multi classification:\n",
    "# model.add(Dense(1, activation='softmax'))\n",
    "model.compile(loss='mean_squared_error')\n",
    "# in case of multi classification:\n",
    "# model.compile(loss='categorical_crossentropy')\n",
    "model.fit(x_scaled, y)\n",
    "pred_values = model.predict(test_scaled)[:, 0]"
   ]
  }
 ],
 "metadata": {
  "kernelspec": {
   "display_name": "Python 3 (ipykernel)",
   "language": "python",
   "name": "python3"
  },
  "language_info": {
   "codemirror_mode": {
    "name": "ipython",
    "version": 3
   },
   "file_extension": ".py",
   "mimetype": "text/x-python",
   "name": "python",
   "nbconvert_exporter": "python",
   "pygments_lexer": "ipython3",
   "version": "3.9.7"
  }
 },
 "nbformat": 4,
 "nbformat_minor": 5
}
