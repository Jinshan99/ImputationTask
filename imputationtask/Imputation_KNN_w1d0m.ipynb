{
 "cells": [
  {
   "cell_type": "code",
   "execution_count": 1,
   "id": "3e6016d0",
   "metadata": {},
   "outputs": [],
   "source": [
    "import numpy as np\n",
    "\n",
    "data_t = np.load('w1d0t.npy')"
   ]
  },
  {
   "cell_type": "code",
   "execution_count": 2,
   "id": "93433973",
   "metadata": {},
   "outputs": [
    {
     "data": {
      "text/plain": [
       "array([[[2.400e+01, 6.400e+01, 1.220e+02, ..., 2.900e+01, 1.500e+01,\n",
       "         1.800e+01],\n",
       "        [5.600e+01, 6.500e+01, 9.200e+01, ..., 4.100e+01, 3.700e+01,\n",
       "         6.200e+01],\n",
       "        [1.090e+02, 1.510e+02, 1.870e+02, ..., 1.110e+02, 8.200e+01,\n",
       "         8.600e+01],\n",
       "        ...,\n",
       "        [1.000e+00, 0.000e+00, 0.000e+00, ..., 1.000e+00, 2.700e+01,\n",
       "         0.000e+00],\n",
       "        [4.000e+00, 0.000e+00, 0.000e+00, ..., 1.000e+01, 7.000e+00,\n",
       "         0.000e+00],\n",
       "        [0.000e+00, 0.000e+00, 0.000e+00, ..., 2.000e+00, 4.000e+00,\n",
       "         0.000e+00]],\n",
       "\n",
       "       [[1.230e+02, 1.280e+02, 1.940e+02, ..., 1.490e+02, 1.850e+02,\n",
       "         1.780e+02],\n",
       "        [2.250e+02, 2.090e+02, 2.870e+02, ..., 7.700e+01, 7.400e+01,\n",
       "         9.900e+01],\n",
       "        [2.400e+02, 1.450e+02, 1.930e+02, ..., 4.000e+01, 2.700e+01,\n",
       "         4.000e+01],\n",
       "        ...,\n",
       "        [9.000e+00, 0.000e+00, 0.000e+00, ..., 0.000e+00, 9.000e+00,\n",
       "         0.000e+00],\n",
       "        [5.000e+00, 0.000e+00, 0.000e+00, ..., 2.000e+00, 8.000e+00,\n",
       "         0.000e+00],\n",
       "        [1.000e+00, 0.000e+00, 0.000e+00, ..., 0.000e+00, 0.000e+00,\n",
       "         0.000e+00]],\n",
       "\n",
       "       [[3.080e+02, 3.700e+02, 3.510e+02, ..., 1.320e+02, 1.520e+02,\n",
       "         1.190e+02],\n",
       "        [2.350e+02, 1.990e+02, 1.630e+02, ..., 1.170e+02, 1.630e+02,\n",
       "         1.860e+02],\n",
       "        [1.480e+02, 1.050e+02, 1.010e+02, ..., 4.800e+01, 7.100e+01,\n",
       "         5.300e+01],\n",
       "        ...,\n",
       "        [3.000e+00, 0.000e+00, 0.000e+00, ..., 0.000e+00, 8.000e+00,\n",
       "         0.000e+00],\n",
       "        [4.000e+00, 0.000e+00, 4.700e+01, ..., 4.000e+00, 6.000e+00,\n",
       "         0.000e+00],\n",
       "        [0.000e+00, 0.000e+00, 0.000e+00, ..., 0.000e+00, 0.000e+00,\n",
       "         0.000e+00]],\n",
       "\n",
       "       ...,\n",
       "\n",
       "       [[0.000e+00, 0.000e+00, 8.000e+00, ..., 0.000e+00, 5.000e+00,\n",
       "         0.000e+00],\n",
       "        [5.000e+00, 0.000e+00, 0.000e+00, ..., 0.000e+00, 0.000e+00,\n",
       "         4.000e+00],\n",
       "        [8.100e+01, 1.900e+01, 1.000e+00, ..., 4.700e+01, 3.600e+01,\n",
       "         1.160e+02],\n",
       "        ...,\n",
       "        [1.968e+03, 1.925e+03, 1.754e+03, ..., 2.006e+03, 2.449e+03,\n",
       "         2.090e+03],\n",
       "        [1.087e+03, 9.040e+02, 1.078e+03, ..., 1.082e+03, 9.210e+02,\n",
       "         8.820e+02],\n",
       "        [7.340e+02, 6.710e+02, 4.860e+02, ..., 7.210e+02, 7.370e+02,\n",
       "         5.960e+02]],\n",
       "\n",
       "       [[1.000e+00, 1.000e+00, 0.000e+00, ..., 0.000e+00, 0.000e+00,\n",
       "         0.000e+00],\n",
       "        [0.000e+00, 1.000e+00, 0.000e+00, ..., 0.000e+00, 0.000e+00,\n",
       "         0.000e+00],\n",
       "        [0.000e+00, 1.100e+01, 5.500e+01, ..., 0.000e+00, 1.000e+00,\n",
       "         0.000e+00],\n",
       "        ...,\n",
       "        [1.632e+03, 1.715e+03, 1.690e+03, ..., 1.618e+03, 1.794e+03,\n",
       "         1.779e+03],\n",
       "        [2.003e+03, 1.973e+03, 1.726e+03, ..., 1.972e+03, 2.312e+03,\n",
       "         1.692e+03],\n",
       "        [1.137e+03, 1.052e+03, 7.670e+02, ..., 1.395e+03, 1.151e+03,\n",
       "         9.660e+02]],\n",
       "\n",
       "       [[0.000e+00, 7.000e+00, 0.000e+00, ..., 0.000e+00, 1.200e+01,\n",
       "         0.000e+00],\n",
       "        [0.000e+00, 6.000e+00, 0.000e+00, ..., 0.000e+00, 1.200e+01,\n",
       "         0.000e+00],\n",
       "        [0.000e+00, 0.000e+00, 3.900e+01, ..., 0.000e+00, 3.000e+00,\n",
       "         0.000e+00],\n",
       "        ...,\n",
       "        [1.725e+03, 1.414e+03, 1.639e+03, ..., 1.842e+03, 2.033e+03,\n",
       "         1.803e+03],\n",
       "        [1.571e+03, 1.373e+03, 1.084e+03, ..., 1.924e+03, 2.061e+03,\n",
       "         1.664e+03],\n",
       "        [8.910e+02, 7.870e+02, 7.060e+02, ..., 1.142e+03, 1.191e+03,\n",
       "         9.890e+02]]])"
      ]
     },
     "execution_count": 2,
     "metadata": {},
     "output_type": "execute_result"
    }
   ],
   "source": [
    "data_t"
   ]
  },
  {
   "cell_type": "code",
   "execution_count": 3,
   "id": "6359e95e",
   "metadata": {},
   "outputs": [
    {
     "data": {
      "text/plain": [
       "array([[  24.,   64.,  122., ...,   29.,   15.,   18.],\n",
       "       [  56.,   65.,   92., ...,   41.,   37.,   62.],\n",
       "       [ 109.,  151.,  187., ...,  111.,   82.,   86.],\n",
       "       ...,\n",
       "       [1725., 1414., 1639., ..., 1842., 2033., 1803.],\n",
       "       [1571., 1373., 1084., ..., 1924., 2061., 1664.],\n",
       "       [ 891.,  787.,  706., ..., 1142., 1191.,  989.]])"
      ]
     },
     "execution_count": 3,
     "metadata": {},
     "output_type": "execute_result"
    }
   ],
   "source": [
    "data_m = np.load('w1d0m.npy')\n",
    "data_m"
   ]
  },
  {
   "cell_type": "code",
   "execution_count": 4,
   "id": "a4214c32",
   "metadata": {},
   "outputs": [
    {
     "data": {
      "text/plain": [
       "array([[  3,  10],\n",
       "       [  3,  13],\n",
       "       [  3,  14],\n",
       "       ...,\n",
       "       [385,  17],\n",
       "       [385,  21],\n",
       "       [385,  23]])"
      ]
     },
     "execution_count": 4,
     "metadata": {},
     "output_type": "execute_result"
    }
   ],
   "source": [
    "np.argwhere(data_m== 0)"
   ]
  },
  {
   "cell_type": "code",
   "execution_count": 17,
   "id": "4df7200b",
   "metadata": {},
   "outputs": [],
   "source": [
    "data_m[np.where(data_m==0)]=np.nan"
   ]
  },
  {
   "cell_type": "code",
   "execution_count": 18,
   "id": "f7c1440a",
   "metadata": {},
   "outputs": [
    {
     "data": {
      "text/plain": [
       "(array([], dtype=int64), array([], dtype=int64))"
      ]
     },
     "execution_count": 18,
     "metadata": {},
     "output_type": "execute_result"
    }
   ],
   "source": [
    "np.where(data_m==0)"
   ]
  },
  {
   "cell_type": "code",
   "execution_count": 20,
   "id": "f179413d",
   "metadata": {},
   "outputs": [
    {
     "data": {
      "text/plain": [
       "1.0"
      ]
     },
     "execution_count": 20,
     "metadata": {},
     "output_type": "execute_result"
    }
   ],
   "source": [
    "data_m[ 385,  22]"
   ]
  },
  {
   "cell_type": "code",
   "execution_count": 21,
   "id": "3b7850a7",
   "metadata": {},
   "outputs": [
    {
     "data": {
      "text/plain": [
       "array([[  24.,   64.,  122., ...,   29.,   15.,   18.],\n",
       "       [  56.,   65.,   92., ...,   41.,   37.,   62.],\n",
       "       [ 109.,  151.,  187., ...,  111.,   82.,   86.],\n",
       "       ...,\n",
       "       [1725., 1414., 1639., ..., 1842., 2033., 1803.],\n",
       "       [1571., 1373., 1084., ..., 1924., 2061., 1664.],\n",
       "       [ 891.,  787.,  706., ..., 1142., 1191.,  989.]])"
      ]
     },
     "execution_count": 21,
     "metadata": {},
     "output_type": "execute_result"
    }
   ],
   "source": [
    "import numpy as np\n",
    "from sklearn.impute import KNNImputer\n",
    "imputer = KNNImputer(n_neighbors=10)\n",
    "imputer.fit_transform(data_m)\n"
   ]
  },
  {
   "cell_type": "code",
   "execution_count": 26,
   "id": "877ac1d0",
   "metadata": {},
   "outputs": [
    {
     "data": {
      "text/plain": [
       "nan"
      ]
     },
     "execution_count": 26,
     "metadata": {},
     "output_type": "execute_result"
    }
   ],
   "source": [
    "data_m[  385,  23]"
   ]
  },
  {
   "cell_type": "code",
   "execution_count": 15,
   "id": "65c54f72",
   "metadata": {},
   "outputs": [
    {
     "data": {
      "text/plain": [
       "array([[1. , 2. , 4. ],\n",
       "       [3. , 4. , 3. ],\n",
       "       [5.5, 6. , 5. ],\n",
       "       [8. , 8. , 7. ]])"
      ]
     },
     "execution_count": 15,
     "metadata": {},
     "output_type": "execute_result"
    }
   ],
   "source": [
    "nan = np.nan\n",
    "X = [[1, 2, nan], [3, 4, 3], [nan, 6, 5], [8, 8, 7]]\n",
    "imputer = KNNImputer(n_neighbors=2, weights=\"uniform\")\n",
    "imputer.fit_transform(X)\n"
   ]
  },
  {
   "cell_type": "code",
   "execution_count": null,
   "id": "4a290e07",
   "metadata": {},
   "outputs": [],
   "source": []
  }
 ],
 "metadata": {
  "kernelspec": {
   "display_name": "Python 3 (ipykernel)",
   "language": "python",
   "name": "python3"
  },
  "language_info": {
   "codemirror_mode": {
    "name": "ipython",
    "version": 3
   },
   "file_extension": ".py",
   "mimetype": "text/x-python",
   "name": "python",
   "nbconvert_exporter": "python",
   "pygments_lexer": "ipython3",
   "version": "3.9.7"
  }
 },
 "nbformat": 4,
 "nbformat_minor": 5
}
