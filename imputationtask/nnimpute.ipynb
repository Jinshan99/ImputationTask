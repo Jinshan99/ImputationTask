{
 "cells": [
  {
   "cell_type": "code",
   "execution_count": 1,
   "id": "accdbb21",
   "metadata": {},
   "outputs": [],
   "source": [
    "import sys\n",
    "import numpy as np\n",
    "\n",
    "mask_m=np.load(sys.argv[0])#\"400x24-mask10-1.npy\"\n",
    "data_m = np.load(sys.argv[1])#\"w1d0m.npy\"\n",
    "\n",
    "masked_data_m = data_m.copy()\n",
    "masked_data_m[ np.where(mask_m == 0) ] = np.nan\n",
    "\n",
    "from sklearn.impute import KNNImputer\n",
    "imputer=KNNImputer(n_neighbors=5)\n",
    "imputer.fit_transform(masked_data_m)\n",
    "imputer_m=imputer.fit_transform(masked_data_m)"
   ]
  },
  {
   "cell_type": "code",
   "execution_count": 2,
   "id": "b7d56881",
   "metadata": {},
   "outputs": [],
   "source": [
    "pos_m=np.argwhere(mask_m==0)\n",
    "true_value=[]\n",
    "pred_value=[]\n",
    "for i in range(len(pos_m)):\n",
    "    true_value.append(data_m[pos_m[i][0]][pos_m[i][1]])\n",
    "    pred_value.append(imputer_m[pos_m[i][0]][pos_m[i][1]])"
   ]
  },
  {
   "cell_type": "code",
   "execution_count": 15,
   "id": "b78454eb",
   "metadata": {},
   "outputs": [],
   "source": [
    "create_dict={}\n",
    "create_dict['position']=np.argwhere(mask_m==0).tolist()\n",
    "create_dict['true_value']=true_value\n",
    "create_dict['pred_value']=pred_value"
   ]
  },
  {
   "cell_type": "code",
   "execution_count": 17,
   "id": "cfdc0e66",
   "metadata": {},
   "outputs": [],
   "source": [
    "import json \n",
    "with open(\"nnimpute.json\", \"w\") as outfile:\n",
    "    json.dump(create_dict, outfile)"
   ]
  },
  {
   "cell_type": "code",
   "execution_count": null,
   "id": "2089c7cc",
   "metadata": {},
   "outputs": [],
   "source": []
  }
 ],
 "metadata": {
  "kernelspec": {
   "display_name": "Python 3 (ipykernel)",
   "language": "python",
   "name": "python3"
  },
  "language_info": {
   "codemirror_mode": {
    "name": "ipython",
    "version": 3
   },
   "file_extension": ".py",
   "mimetype": "text/x-python",
   "name": "python",
   "nbconvert_exporter": "python",
   "pygments_lexer": "ipython3",
   "version": "3.9.7"
  }
 },
 "nbformat": 4,
 "nbformat_minor": 5
}
